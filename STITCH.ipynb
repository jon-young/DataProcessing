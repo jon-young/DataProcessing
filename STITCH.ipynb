{
 "cells": [
  {
   "cell_type": "code",
   "execution_count": 1,
   "metadata": {
    "collapsed": true
   },
   "outputs": [],
   "source": [
    "import os"
   ]
  },
  {
   "cell_type": "markdown",
   "metadata": {},
   "source": [
    "---"
   ]
  },
  {
   "cell_type": "markdown",
   "metadata": {},
   "source": [
    "Exploration of *4932.actions.v4.0.tsv*:\n",
    "\n",
    "**2015 December 2**\n",
    "\n",
    "According to the README, the scores are \"multiplied by 1000.\" From Kuhn, *et al.* (2014), high-confidence scores have a cutoff of 0.7. \n",
    "\n",
    "All entries in the \"mode\" column are of the following:\n",
    "* activation\n",
    "* binding\n",
    "* catalysis\n",
    "* inhibition\n",
    "* reaction\n",
    "\n",
    "Entries in the \"action\" column are either \"activation\" or \"inhibition.\"\n",
    "\n",
    "If \"mode\" entry is \"activation\" or \"inhibition\", then the corresponding entry in the \"action\" column is also \"activation\" or \"inhibition\", respectively. \n",
    "\n",
    "If \"action\" entry is \"activation\" or \"inhibition\", then the corresponding entry in the \"mode\" column (other than \"activation\" or \"inhibition\") is \"binding.\""
   ]
  },
  {
   "cell_type": "code",
   "execution_count": null,
   "metadata": {
    "collapsed": true
   },
   "outputs": [],
   "source": []
  }
 ],
 "metadata": {
  "kernelspec": {
   "display_name": "Python 3",
   "language": "python",
   "name": "python3"
  },
  "language_info": {
   "codemirror_mode": {
    "name": "ipython",
    "version": 3
   },
   "file_extension": ".py",
   "mimetype": "text/x-python",
   "name": "python",
   "nbconvert_exporter": "python",
   "pygments_lexer": "ipython3",
   "version": "3.4.3"
  }
 },
 "nbformat": 4,
 "nbformat_minor": 0
}
