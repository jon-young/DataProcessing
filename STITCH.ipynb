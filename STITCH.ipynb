{
 "cells": [
  {
   "cell_type": "markdown",
   "metadata": {},
   "source": [
    "# Search Tool for InTeractions of CHemicals (STITCH) Data Processing"
   ]
  },
  {
   "cell_type": "code",
   "execution_count": 1,
   "metadata": {
    "collapsed": true
   },
   "outputs": [],
   "source": [
    "import collections"
   ]
  },
  {
   "cell_type": "code",
   "execution_count": 13,
   "metadata": {
    "collapsed": true
   },
   "outputs": [],
   "source": [
    "import math"
   ]
  },
  {
   "cell_type": "code",
   "execution_count": 2,
   "metadata": {
    "collapsed": true
   },
   "outputs": [],
   "source": [
    "import matplotlib"
   ]
  },
  {
   "cell_type": "code",
   "execution_count": 3,
   "metadata": {
    "collapsed": false
   },
   "outputs": [],
   "source": [
    "matplotlib.use('Agg')"
   ]
  },
  {
   "cell_type": "code",
   "execution_count": 4,
   "metadata": {
    "collapsed": true
   },
   "outputs": [],
   "source": [
    "%matplotlib inline"
   ]
  },
  {
   "cell_type": "code",
   "execution_count": 5,
   "metadata": {
    "collapsed": true
   },
   "outputs": [],
   "source": [
    "import matplotlib.pyplot as plt"
   ]
  },
  {
   "cell_type": "code",
   "execution_count": 12,
   "metadata": {
    "collapsed": true
   },
   "outputs": [],
   "source": [
    "import numpy as np"
   ]
  },
  {
   "cell_type": "code",
   "execution_count": 6,
   "metadata": {
    "collapsed": true
   },
   "outputs": [],
   "source": [
    "import os"
   ]
  },
  {
   "cell_type": "markdown",
   "metadata": {},
   "source": [
    "---"
   ]
  },
  {
   "cell_type": "markdown",
   "metadata": {},
   "source": [
    "Exploration of *4932.actions.v4.0.tsv*:\n",
    "\n",
    "**2015 December 2**\n",
    "\n",
    "According to the README, the scores are \"multiplied by 1000.\" From Kuhn, *et al.* (2014), high-confidence scores have a cutoff of 0.7. \n",
    "\n",
    "All entries in the \"mode\" column are of the following:\n",
    "* activation\n",
    "* binding\n",
    "* catalysis\n",
    "* inhibition\n",
    "* reaction\n",
    "\n",
    "Entries in the \"action\" column are either \"activation\" or \"inhibition.\"\n",
    "\n",
    "If \"mode\" entry is \"activation\" or \"inhibition\", then the corresponding entry in the \"action\" column is also \"activation\" or \"inhibition\", respectively. \n",
    "\n",
    "If \"action\" entry is \"activation\" or \"inhibition\", then the corresponding entry in the \"mode\" column (other than \"activation\" or \"inhibition\") is \"binding.\"\n",
    "\n",
    "**2015 December 4**\n",
    "\n",
    "It turns out that not all of the entries in the 1<sup>st</sup> column of *4932.actions.v4.0.tsv* are chemicals - some are chemicals while others are genes, and likewise for the entries in the 2<sup>nd</sup> column. Also note that all chemical prefixes begin with \"CID\", and all gene entries start with \"4932.\"\n",
    "\n",
    "How many chemicals are just inhibition? Are there any that have mixed actions, such as inhibiting some targets and activating others?"
   ]
  },
  {
   "cell_type": "code",
   "execution_count": 8,
   "metadata": {
    "collapsed": true
   },
   "outputs": [],
   "source": [
    "stitchfile = open(os.path.join('..', 'DataDownload', 'STITCH', '4932.actions.v4.0.tsv'))"
   ]
  },
  {
   "cell_type": "code",
   "execution_count": 9,
   "metadata": {
    "collapsed": false
   },
   "outputs": [],
   "source": [
    "header = stitchfile.readline().rstrip().split('\\t')\n",
    "actCol = header.index('action')\n",
    "scoreCol = header.index('score')"
   ]
  },
  {
   "cell_type": "code",
   "execution_count": 5,
   "metadata": {
    "collapsed": true
   },
   "outputs": [],
   "source": [
    "chem2act = collections.defaultdict(set)"
   ]
  },
  {
   "cell_type": "code",
   "execution_count": 6,
   "metadata": {
    "collapsed": true
   },
   "outputs": [],
   "source": [
    "for line in stitchfile:\n",
    "    tokens = line.rstrip().split('\\t')\n",
    "    if tokens[actCol] == 'inhibition':\n",
    "        if tokens[0][:3] == 'CID':\n",
    "            chem2act[tokens[0]].add(tokens[actCol])\n",
    "        else:\n",
    "            chem2act[tokens[1]].add(tokens[actCol])"
   ]
  },
  {
   "cell_type": "code",
   "execution_count": 11,
   "metadata": {
    "collapsed": true
   },
   "outputs": [],
   "source": [
    "stitchfile.close()"
   ]
  },
  {
   "cell_type": "code",
   "execution_count": 8,
   "metadata": {
    "collapsed": false
   },
   "outputs": [
    {
     "data": {
      "text/plain": [
       "2567"
      ]
     },
     "execution_count": 8,
     "metadata": {},
     "output_type": "execute_result"
    }
   ],
   "source": [
    "len(chem2act)"
   ]
  },
  {
   "cell_type": "code",
   "execution_count": 9,
   "metadata": {
    "collapsed": false
   },
   "outputs": [
    {
     "data": {
      "text/plain": [
       "{1}"
      ]
     },
     "execution_count": 9,
     "metadata": {},
     "output_type": "execute_result"
    }
   ],
   "source": [
    "{len(chem2act[chem]) for chem in chem2act.keys()}"
   ]
  },
  {
   "cell_type": "code",
   "execution_count": 10,
   "metadata": {
    "collapsed": true
   },
   "outputs": [],
   "source": [
    "chem2act = {k: frozenset(v) for k,v in chem2act.items()}"
   ]
  },
  {
   "cell_type": "code",
   "execution_count": 11,
   "metadata": {
    "collapsed": false
   },
   "outputs": [
    {
     "data": {
      "text/plain": [
       "{frozenset({'inhibition'})}"
      ]
     },
     "execution_count": 11,
     "metadata": {},
     "output_type": "execute_result"
    }
   ],
   "source": [
    "set(chem2act.values())"
   ]
  },
  {
   "cell_type": "markdown",
   "metadata": {},
   "source": [
    "<u>Conclusion:</u> So it looks like *any* chemical whose action is inhibition only has that as its sole action, e.g. it also doesn't activate. \n",
    "\n",
    "**2015 December 4, 8**\n",
    "\n",
    "How many targets does each inhibiting chemical have?"
   ]
  },
  {
   "cell_type": "code",
   "execution_count": 7,
   "metadata": {
    "collapsed": true
   },
   "outputs": [],
   "source": [
    "chem2target = collections.defaultdict(set)"
   ]
  },
  {
   "cell_type": "code",
   "execution_count": 10,
   "metadata": {
    "collapsed": true
   },
   "outputs": [],
   "source": [
    "for line in stitchfile:\n",
    "    tokens = line.rstrip().split('\\t')\n",
    "    if tokens[actCol] == 'inhibition' and float(tokens[scoreCol]) >= 700:\n",
    "        if tokens[0][:3] == 'CID':\n",
    "            chem = tokens[0]\n",
    "            target = tokens[1]\n",
    "        else:\n",
    "            chem = tokens[1]\n",
    "            target = tokens[0]\n",
    "        chem2target[chem].add(target)"
   ]
  },
  {
   "cell_type": "code",
   "execution_count": 15,
   "metadata": {
    "collapsed": false
   },
   "outputs": [],
   "source": [
    "numTargets = np.array([len(chem2target[chem]) for chem in chem2target])"
   ]
  },
  {
   "cell_type": "code",
   "execution_count": 16,
   "metadata": {
    "collapsed": false
   },
   "outputs": [
    {
     "data": {
      "text/plain": [
       "806"
      ]
     },
     "execution_count": 16,
     "metadata": {},
     "output_type": "execute_result"
    }
   ],
   "source": [
    "numTargets.size"
   ]
  },
  {
   "cell_type": "code",
   "execution_count": 21,
   "metadata": {
    "collapsed": false
   },
   "outputs": [
    {
     "data": {
      "image/png": "[encoded data removed]",
      "text/plain": [
       "<matplotlib.figure.Figure at 0x7f0e5b6f5fd0>"
      ]
     },
     "metadata": {},
     "output_type": "display_data"
    }
   ],
   "source": [
    "plt.hist(numTargets, bins=round(math.sqrt(numTargets.size)), log=True)\n",
    "plt.xlabel('Number of targets')\n",
    "plt.ylabel('Count')\n",
    "plt.title('Distribution of number of targets per chemical')\n",
    "plt.show()"
   ]
  },
  {
   "cell_type": "code",
   "execution_count": 22,
   "metadata": {
    "collapsed": false
   },
   "outputs": [
    {
     "data": {
      "text/plain": [
       "array([ 1,  2,  3,  4,  5,  6,  7,  9, 18])"
      ]
     },
     "execution_count": 22,
     "metadata": {},
     "output_type": "execute_result"
    }
   ],
   "source": [
    "np.unique(numTargets)"
   ]
  },
  {
   "cell_type": "code",
   "execution_count": null,
   "metadata": {
    "collapsed": true
   },
   "outputs": [],
   "source": []
  }
 ],
 "metadata": {
  "kernelspec": {
   "display_name": "Python 3",
   "language": "python",
   "name": "python3"
  },
  "language_info": {
   "codemirror_mode": {
    "name": "ipython",
    "version": 3
   },
   "file_extension": ".py",
   "mimetype": "text/x-python",
   "name": "python",
   "nbconvert_exporter": "python",
   "pygments_lexer": "ipython3",
   "version": "3.4.3"
  }
 },
 "nbformat": 4,
 "nbformat_minor": 0
}
