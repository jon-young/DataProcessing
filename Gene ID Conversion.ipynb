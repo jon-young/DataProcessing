{
 "cells": [
  {
   "cell_type": "code",
   "execution_count": 1,
   "metadata": {
    "collapsed": true
   },
   "outputs": [],
   "source": [
    "import os"
   ]
  },
  {
   "cell_type": "markdown",
   "metadata": {},
   "source": [
    "---"
   ]
  },
  {
   "cell_type": "markdown",
   "metadata": {},
   "source": [
    "# CORUM\n",
    "\n",
    "**2015 November 29-30**\n",
    "\n",
    "Processing the downloaded CORUM file *CORUM_allComplexes.csv* into 2-column format (1<sup>st</sup> column &larr; complex name, 2<sup>nd</sup> column &larr; gene) with the script *proteincomplexformat.py*. The file lists complex members as UniProt IDs and ostensibly Entrez IDs. Unfortunately, it will not be possible to directly process the CORUM file into Entrez IDs. For whatever reason, CORUM maps some UniProt IDs to Entrez ID 0:"
   ]
  },
  {
   "cell_type": "code",
   "execution_count": 2,
   "metadata": {
    "collapsed": false
   },
   "outputs": [
    {
     "name": "stdout",
     "output_type": "stream",
     "text": [
      "6073;SRp30c-SRp55 complex;;Human;Q13247,Q13242;0,0;MI:0019- coimmunoprecipitation;15695522;11.04.03.01.10;\"\";\"Tau exons 2 and 10, which are misregulated in neurodegenerative diseases, are partly regulated by silencers which bind a SRp30c-SRp55 complex that either recruits or antagonizes htra2beta1 (a variant of TRA2B).\";\"\"\n"
     ]
    }
   ],
   "source": [
    "%%bash\n",
    "grep ';SRp30c-SRp55 complex' /work/jyoung/DataDownload/CORUM_allComplexes.csv"
   ]
  },
  {
   "cell_type": "markdown",
   "metadata": {},
   "source": [
    "<s>Plan to use the *corum()* function in *proteincomplexformat.py* to write IDs as UniProt and the Bioconductor R *org.Hs.eg.db* library to convert these to Entrez.</s> Unfortunately, *org.Hs.eg.db* only converts from Entrez to UniProt and not the other way around. Try to write out all the UniProt IDs from CORUM into a single file and have the [UniProt mapping service](http://www.uniprot.org/mapping/) perform the conversion. Also beware that for some reason, the CORUM file has parentheses surrounding some of the IDs:"
   ]
  },
  {
   "cell_type": "code",
   "execution_count": 3,
   "metadata": {
    "collapsed": false
   },
   "outputs": [
    {
     "name": "stdout",
     "output_type": "stream",
     "text": [
      "3150;NK-3-Groucho complex;;Human;(Q99801,P78367),(Q04724,Q04725,Q04726,Q04727,Q9H808);(4824,579),(7088,7089,7090,7091,79816);MI:0096- pull down;10559189;11.02.03.04.03,70.10;\"NK-3 homeodomain protein can associate wih the human Groucho homolog TLE in the absence of DNA. This interaction translocates Groucho proteins from the cytoplasm into the nucleus.\";\"\";\"\"\n"
     ]
    }
   ],
   "source": [
    "%%bash\n",
    "grep ';NK-3-Groucho complex;' /work/jyoung/DataDownload/CORUM_allComplexes.csv"
   ]
  },
  {
   "cell_type": "code",
   "execution_count": 4,
   "metadata": {
    "collapsed": true
   },
   "outputs": [],
   "source": [
    "os.chdir(os.path.join(os.sep, 'work', 'jyoung','DataDownload'))\n",
    "uniprotIDs = set()\n",
    "corumFile = open('CORUM_allComplexes.csv')\n",
    "header = corumFile.readline().rstrip().split(';')\n",
    "orgCol = header.index('organism')\n",
    "uniprotCol = header.index('subunits (UniProt IDs)')\n",
    "for line in corumFile:\n",
    "    tokens = line.rstrip().split(';')\n",
    "    if tokens[orgCol] == 'Human':\n",
    "        if tokens[uniprotCol] != '':\n",
    "            if '(' in tokens[uniprotCol]:\n",
    "                uniprotIDs.update(tokens[uniprotCol].replace('(', '').replace(')', '').split(','))\n",
    "            else:\n",
    "                uniprotIDs.update(tokens[uniprotCol].split(','))\n",
    "corumFile.close()\n",
    "\n",
    "os.chdir(os.path.join('..', 'DataProcessed'))\n",
    "writeFile = open('CORUM_Human_UniProt.txt', 'w')\n",
    "for uid in uniprotIDs:\n",
    "    writeFile.write(uid + '\\n')\n",
    "writeFile.close()"
   ]
  },
  {
   "cell_type": "markdown",
   "metadata": {},
   "source": [
    "2,539 out of 2,555 identifiers from UniProtKB AC/ID were successfully mapped to 2,576 Entrez Gene (GeneID) IDs. The mapped IDs were saved as *CORUM_Hs_UniProt_mapped.tab* and the un-mapped IDs were saved into *CORUM_Hs_UniProt_notmapped.txt*. Any un-mapped IDs will be ignored when converting from UniProt to Entrez. The mapping is also not 1-to-1:"
   ]
  },
  {
   "cell_type": "code",
   "execution_count": 5,
   "metadata": {
    "collapsed": false
   },
   "outputs": [
    {
     "name": "stdout",
     "output_type": "stream",
     "text": [
      "2583 /work/jyoung/DataProcessed/CORUM_Hs_UniProt_mapped.tab\n"
     ]
    }
   ],
   "source": [
    "%%bash\n",
    "wc -l /work/jyoung/DataProcessed/CORUM_Hs_UniProt_mapped.tab"
   ]
  },
  {
   "cell_type": "code",
   "execution_count": 6,
   "metadata": {
    "collapsed": false
   },
   "outputs": [
    {
     "name": "stdout",
     "output_type": "stream",
     "text": [
      "2540\n"
     ]
    }
   ],
   "source": [
    "%%bash\n",
    "cut -f1 /work/jyoung/DataProcessed/CORUM_Hs_UniProt_mapped.tab | sort | uniq | wc -l"
   ]
  },
  {
   "cell_type": "markdown",
   "metadata": {},
   "source": [
    "In such instances, the offending UniProt ID with multiple corresponding Entrez IDs will be ignored and not converted.\n",
    "\n",
    "Modifications made to *proteincomplexformat.py* to add a function to return a dictionary convert UniProt to Entrez and perform the processing to CORUM to 2-column format."
   ]
  },
  {
   "cell_type": "code",
   "execution_count": 1,
   "metadata": {
    "collapsed": true
   },
   "outputs": [],
   "source": [
    "import proteincomplexformat"
   ]
  },
  {
   "cell_type": "code",
   "execution_count": 2,
   "metadata": {
    "collapsed": true
   },
   "outputs": [],
   "source": [
    "proteincomplexformat.corum('Human')"
   ]
  },
  {
   "cell_type": "markdown",
   "metadata": {},
   "source": [
    "2-column output written as *CORUM_Human_Entrez.txt*. "
   ]
  },
  {
   "cell_type": "code",
   "execution_count": null,
   "metadata": {
    "collapsed": true
   },
   "outputs": [],
   "source": []
  }
 ],
 "metadata": {
  "kernelspec": {
   "display_name": "Python 3",
   "language": "python",
   "name": "python3"
  },
  "language_info": {
   "codemirror_mode": {
    "name": "ipython",
    "version": 3
   },
   "file_extension": ".py",
   "mimetype": "text/x-python",
   "name": "python",
   "nbconvert_exporter": "python",
   "pygments_lexer": "ipython3",
   "version": "3.4.3"
  }
 },
 "nbformat": 4,
 "nbformat_minor": 0
}
